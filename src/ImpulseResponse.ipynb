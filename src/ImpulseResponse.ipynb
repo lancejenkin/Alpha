{
 "metadata": {
  "name": "ImpulseResponse"
 }, 
 "nbformat": 2, 
 "worksheets": [
  {
   "cells": [
    {
     "cell_type": "code", 
     "collapsed": false, 
     "input": [
      "cd /Users/lance/Programming/Python/Masters/src/"
     ], 
     "language": "python", 
     "outputs": [
      {
       "output_type": "stream", 
       "stream": "stdout", 
       "text": [
        "/Users/lance/Programming/Python/Masters/src"
       ]
      }
     ], 
     "prompt_number": 1
    }, 
    {
     "cell_type": "code", 
     "collapsed": false, 
     "input": [
      "from SignalGenerator import SignalGenerator"
     ], 
     "language": "python", 
     "outputs": [
      {
       "output_type": "stream", 
       "stream": "stderr", 
       "text": [
        "/Library/Frameworks/Python.framework/Versions/2.7/lib/python2.7/site-packages/scikits/__init__.py:1: UserWarning: Module numpy was already imported from /System/Library/Frameworks/Python.framework/Versions/2.7/Extras/lib/python/numpy/__init__.pyc, but /Library/Frameworks/Python.framework/Versions/2.7/lib/python2.7/site-packages is being added to sys.path", 
        "  __import__(&apos;pkg_resources&apos;).declare_namespace(__name__)"
       ]
      }
     ], 
     "prompt_number": 2
    }, 
    {
     "cell_type": "code", 
     "collapsed": true, 
     "input": [
      "from MlsDb import MlsDb", 
      "from AudioIO import AudioIO", 
      "from pylab import *"
     ], 
     "language": "python", 
     "outputs": [], 
     "prompt_number": 5
    }, 
    {
     "cell_type": "code", 
     "collapsed": false, 
     "input": [
      "", 
      "# initialize the objects", 
      "mls_db = MlsDb()", 
      "audio = AudioIO()", 
      "", 
      "# setup the audio device", 
      "audio.setInputDevice(3)", 
      "audio.setOutputDevice(2)", 
      "", 
      "# set up the signal paramaters", 
      "fs = 44100.0", 
      "taps = 14", 
      "reps = 3", 
      "", 
      "# generate the MLS signal", 
      "mls = mls_db.getMls(taps)", 
      "", 
      "# convert (0,1) to (1,-1)", 
      "output_signal = -2 * mls + 1", 
      "impulse_to_signal = fs / 5", 
      "output_signal = r_[1, zeros(impulse_to_signal), repeat(output_signal, reps)]", 
      "", 
      "# add some padding to the back of the signal", 
      "output_signal = r_[output_signal, zeros(fs)]", 
      "", 
      "# play and record", 
      "(mic_sig, gen_sig) = audio.playbackAndRecord(output_signal, output_signal)", 
      "", 
      "# locate the impulse preceeding the signal", 
      "mic_impulse_location = locateSignalImpulse(array(mic_sig))", 
      "gen_impulse_location = locateGeneratorImpulse(array(gen_sig))", 
      "", 
      "# extract the signals, ignoring the first burst of MLS, as it will be distorted", 
      "# by the synchronization impulse", 
      "mic_signal_start = int(mic_impulse_location + impulse_to_signal)", 
      "mic_signals = mic_sig[mic_signal_start + len(mls):mic_signal_start + len(mls) * (reps + 1)]", 
      "", 
      "gen_signal_start = int(gen_impulse_location + impulse_to_signal)", 
      "gen_signals = gen_sig[gen_signal_start + len(mls):gen_signal_start + len(mls) * (reps + 1)]", 
      "# reshape the signals into an array of signals", 
      "mic_signals = reshape(mic_signals, (len(mls), -1))", 
      "gen_signals = reshape(gen_signals, (len(mls), -1))", 
      "", 
      "# average the signals together", 
      "mic_signal = average(mic_signals, axis=1)", 
      "gen_signal = average(gen_signals, axis=1)", 
      "", 
      "# get the system response", 
      "mic_response = mls_db.getSystemResponse(mic_signal, taps)", 
      "gen_response = mls_db.getSystemResponse(gen_signal, taps)"
     ], 
     "language": "python", 
     "outputs": [
      {
       "output_type": "stream", 
       "stream": "stdout", 
       "text": [
        "Entering _locateSignalImpulse", 
        "Impulse found at 19547", 
        "Entering _locateGeneratorImpulse", 
        "Impulse found at 19422"
       ]
      }
     ], 
     "prompt_number": 117
    }, 
    {
     "cell_type": "code", 
     "collapsed": false, 
     "input": [
      "gen_response = mls_db.getSystemResponse(gen_sig[gen_signal_start+len(mls):gen_signal_start+2*len(mls)], taps)", 
      "mic_response = mls_db.getSystemResponse(mic_sig[mic_signal_start+len(mls):mic_signal_start+2*len(mls)], taps)", 
      "plot(mic_response)", 
      "show()"
     ], 
     "language": "python", 
     "outputs": [], 
     "prompt_number": 118
    }, 
    {
     "cell_type": "code", 
     "collapsed": false, 
     "input": [
      "mic_response = mls_db.getSystemResponse(mic_signal, taps)", 
      "plot(mic_sig)", 
      "axvline(x=mic_impulse_location, color=\"r\") ", 
      "axvline(x=mic_signal_start, color=\"r\")", 
      "axvline(x=mic_signal_start + len(mls), color=\"r\")", 
      "axvline(x=mic_signal_start + len(mls) * (reps + 1), color=\"r\")", 
      "show()"
     ], 
     "language": "python", 
     "outputs": [], 
     "prompt_number": 93
    }, 
    {
     "cell_type": "code", 
     "collapsed": true, 
     "input": [
      "def locateSignalImpulse(signal):", 
      "        \"\"\" Locates the synchronization impulse in the microphone response.", 
      "", 
      "        Finding the synchronization impulse in the microphone is complicated", 
      "        by; the relatively low SNR as compared to the generator response and", 
      "        the distorting effects on the impulse that the loudspeaker, fibre glass", 
      "        plug and sound propagating in a tube has on the impulse.  Instead of", 
      "        using a simple threshold, instead the first N samples of the signal are", 
      "        assumed not to have any signal in them and consit of only noise. The", 
      "        maximum value is then taken as the peak noise level, and the impulse", 
      "        is determined to be in the sample that is T times the peak noise level.", 
      "        \"\"\"", 
      "        print \"Entering _locateSignalImpulse\"", 
      "", 
      "        noise_samples = 1000", 
      "        impulse_constant = 3", 
      "", 
      "        # Differentiate the signal", 
      "        d_signal = r_[0, (signal[1:] - signal[:-1])]", 
      "", 
      "        # Determine noise level", 
      "        d_noise = d_signal[abs(d_signal) > 0][:noise_samples]", 
      "        max_noise = max(abs(d_noise))", 
      "        std_noise = std(abs(d_noise))", 
      "", 
      "        threshold = max_noise + impulse_constant * std_noise", 
      "", 
      "        for sample_index, sample in enumerate(d_signal):", 
      "            if abs(sample) > threshold:", 
      "                print \"Impulse found at %s\" % (sample_index)", 
      "                return sample_index", 
      "", 
      "        print \"Impulse not found\"", 
      "        return -1"
     ], 
     "language": "python", 
     "outputs": [], 
     "prompt_number": 8
    }, 
    {
     "cell_type": "code", 
     "collapsed": true, 
     "input": [
      "def locateGeneratorImpulse(signal):", 
      "        \"\"\" Locates the synchronization impulse in the generator response.", 
      "", 
      "        Due to the high SNR of the generator signal, a simple threshold", 
      "        algorithm suffices to find the synchronization impulse in the generator", 
      "        signal. It should be noted, preringing occurs due to the out of phase", 
      "        response of the bandlimiting filters in the AD and DA parts of the", 
      "        soundcard.  The ringing has a frequency of Fs / 2, and can be removed", 
      "        by phase shifting the signal using the Hilbert transform.  This will", 
      "        help in locating the impulse.", 
      "", 
      "        :param signal:", 
      "            The generator signal captured.", 
      "        :type signal:", 
      "            array of float", 
      "", 
      "        :returns:", 
      "            int - The start index of the impulse", 
      "        \"\"\"", 
      "", 
      "        print \"Entering _locateGeneratorImpulse\"", 
      "", 
      "        threshold = 0.4", 
      "        # Get the envolope of the signal, removing the pre-ringing", 
      "        signal = abs(signal)", 
      "", 
      "        for sample_index, sample in enumerate(signal):", 
      "            if sample > threshold:", 
      "                print \"Impulse found at %s\" % (sample_index)", 
      "                return sample_index", 
      "", 
      "        print \"Impulse not found!\"", 
      "        return -1"
     ], 
     "language": "python", 
     "outputs": [], 
     "prompt_number": 9
    }, 
    {
     "cell_type": "code", 
     "collapsed": false, 
     "input": [
      "(mic, gen) = impulse_response()"
     ], 
     "language": "python", 
     "outputs": [
      {
       "output_type": "stream", 
       "stream": "stdout", 
       "text": [
        "Entering _locateSignalImpulse", 
        "Impulse found at 19427", 
        "Entering _locateGeneratorImpulse", 
        "Impulse found at 19306", 
        "(16383, 2)", 
        "2"
       ]
      }
     ], 
     "prompt_number": 74
    }, 
    {
     "cell_type": "code", 
     "collapsed": true, 
     "input": [
      "def repeat(x, reps):", 
      "    out = x", 
      "    for i in range(reps):", 
      "        out = r_[out, x]", 
      "    return out"
     ], 
     "language": "python", 
     "outputs": [], 
     "prompt_number": 33
    }, 
    {
     "cell_type": "code", 
     "collapsed": true, 
     "input": [
      "plot(mic); show()"
     ], 
     "language": "python", 
     "outputs": [], 
     "prompt_number": 73
    }, 
    {
     "cell_type": "code", 
     "collapsed": false, 
     "input": [
      "mic"
     ], 
     "language": "python", 
     "outputs": [
      {
       "output_type": "pyout", 
       "prompt_number": 53, 
       "text": [
        "array([-0.02003479, -0.05820465, -0.01376724, -0.060009  , -0.11036301,", 
        "       -0.09083557, -0.0562706 ,  0.        ])"
       ]
      }
     ], 
     "prompt_number": 53
    }, 
    {
     "cell_type": "code", 
     "collapsed": true, 
     "input": [], 
     "language": "python", 
     "outputs": [], 
     "prompt_number": "&nbsp;"
    }
   ]
  }
 ]
}